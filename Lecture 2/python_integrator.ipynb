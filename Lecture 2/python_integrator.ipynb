{
 "cells": [
  {
   "cell_type": "code",
   "execution_count": 1,
   "id": "initial_id",
   "metadata": {
    "collapsed": true,
    "ExecuteTime": {
     "end_time": "2023-10-12T05:48:25.115628Z",
     "start_time": "2023-10-12T05:48:23.275285Z"
    }
   },
   "outputs": [],
   "source": [
    "from matplotlib import pyplot as plt\n",
    "import math"
   ]
  },
  {
   "cell_type": "code",
   "execution_count": 7,
   "outputs": [],
   "source": [
    "def pendulum_dynamics(x):\n",
    "    l = 1.0\n",
    "    g = 9.81\n",
    "    \n",
    "    theta = x[0]\n",
    "    dot_theta = x[1]\n",
    "    \n",
    "    ddot_theta = -(g/l) * math.sin(theta)\n",
    "    \n",
    "    return [dot_theta, ddot_theta]\n",
    "    "
   ],
   "metadata": {
    "collapsed": false,
    "ExecuteTime": {
     "end_time": "2023-10-11T02:45:08.761565Z",
     "start_time": "2023-10-11T02:45:08.757302Z"
    }
   },
   "id": "dc3934c2e1ed0400"
  },
  {
   "cell_type": "code",
   "execution_count": 8,
   "outputs": [
    {
     "data": {
      "text/plain": "[0, -8.254830360965466]"
     },
     "execution_count": 8,
     "metadata": {},
     "output_type": "execute_result"
    }
   ],
   "source": [
    "pendulum_dynamics([1, 0])"
   ],
   "metadata": {
    "collapsed": false,
    "ExecuteTime": {
     "end_time": "2023-10-11T02:45:09.654422Z",
     "start_time": "2023-10-11T02:45:09.647204Z"
    }
   },
   "id": "c1673835705da6b7"
  },
  {
   "cell_type": "code",
   "execution_count": null,
   "outputs": [],
   "source": [],
   "metadata": {
    "collapsed": false
   },
   "id": "6af9a2a6eb9ead6"
  }
 ],
 "metadata": {
  "kernelspec": {
   "display_name": "Python 3",
   "language": "python",
   "name": "python3"
  },
  "language_info": {
   "codemirror_mode": {
    "name": "ipython",
    "version": 2
   },
   "file_extension": ".py",
   "mimetype": "text/x-python",
   "name": "python",
   "nbconvert_exporter": "python",
   "pygments_lexer": "ipython2",
   "version": "2.7.6"
  }
 },
 "nbformat": 4,
 "nbformat_minor": 5
}
