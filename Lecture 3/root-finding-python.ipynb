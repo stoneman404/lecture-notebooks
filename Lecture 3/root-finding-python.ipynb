{
 "cells": [
  {
   "cell_type": "code",
   "execution_count": 240,
   "id": "initial_id",
   "metadata": {
    "collapsed": true,
    "ExecuteTime": {
     "end_time": "2023-10-18T07:25:15.406101Z",
     "start_time": "2023-10-18T07:25:15.370906Z"
    }
   },
   "outputs": [],
   "source": [
    "import math\n",
    "import numpy as np\n",
    "from matplotlib import pyplot as plt"
   ]
  },
  {
   "cell_type": "code",
   "execution_count": 241,
   "id": "d03a9052425476f3",
   "metadata": {
    "collapsed": false,
    "ExecuteTime": {
     "end_time": "2023-10-18T07:25:15.413288Z",
     "start_time": "2023-10-18T07:25:15.374953Z"
    }
   },
   "outputs": [],
   "source": [
    "l = 1.0\n",
    "g = 9.81"
   ]
  },
  {
   "cell_type": "code",
   "execution_count": 242,
   "id": "e9555da746a7c144",
   "metadata": {
    "collapsed": false,
    "ExecuteTime": {
     "end_time": "2023-10-18T07:25:15.413408Z",
     "start_time": "2023-10-18T07:25:15.381620Z"
    }
   },
   "outputs": [],
   "source": [
    "def pendulum_dynamics(x): \n",
    "    theta = x[0]\n",
    "    dot_theta = x[1]\n",
    "    ddot_theta = -(g/l) * math.sin(theta)\n",
    "    return np.array([dot_theta, ddot_theta])\n",
    "    "
   ]
  },
  {
   "cell_type": "code",
   "execution_count": 243,
   "id": "9594709f304f421f",
   "metadata": {
    "collapsed": false,
    "ExecuteTime": {
     "end_time": "2023-10-18T07:25:15.413459Z",
     "start_time": "2023-10-18T07:25:15.385702Z"
    }
   },
   "outputs": [],
   "source": [
    "def jac_pendulum_dynamic(x):\n",
    "    l = 1.0\n",
    "    g = 9.81\n",
    "    return np.array([[0.0, 1.0],[-g/l * math.cos(x[0]), 0.0]])"
   ]
  },
  {
   "cell_type": "code",
   "execution_count": 244,
   "id": "73314204630b1fed",
   "metadata": {
    "collapsed": false,
    "ExecuteTime": {
     "end_time": "2023-10-18T07:25:15.414200Z",
     "start_time": "2023-10-18T07:25:15.390947Z"
    }
   },
   "outputs": [
    {
     "data": {
      "text/plain": "array([[ 0.        ,  1.        ],\n       [-9.76099086,  0.        ]])"
     },
     "execution_count": 244,
     "metadata": {},
     "output_type": "execute_result"
    }
   ],
   "source": [
    "jac_pendulum_dynamic([0.1, 0.0])"
   ]
  },
  {
   "cell_type": "code",
   "execution_count": 244,
   "id": "87d074df78dce267",
   "metadata": {
    "collapsed": false,
    "ExecuteTime": {
     "end_time": "2023-10-18T07:25:15.414264Z",
     "start_time": "2023-10-18T07:25:15.394991Z"
    }
   },
   "outputs": [],
   "source": []
  },
  {
   "cell_type": "code",
   "execution_count": 245,
   "id": "a1c1be3eb5f8e502",
   "metadata": {
    "collapsed": false,
    "ExecuteTime": {
     "end_time": "2023-10-18T07:25:15.414318Z",
     "start_time": "2023-10-18T07:25:15.399015Z"
    }
   },
   "outputs": [],
   "source": [
    "def backward_euler_fixed_point_step(func, x0, h):\n",
    "    xn = x0\n",
    "    e = [np.linalg.norm(func(xn) - xn)]\n",
    "    while e[-1] > 1.0e-8:\n",
    "        xn = x0 + h * func(xn)\n",
    "        e.append(np.linalg.norm(x0 + h * func(xn) - xn))\n",
    "    return xn, e"
   ]
  },
  {
   "cell_type": "code",
   "execution_count": 246,
   "id": "a689a4e7b6ecc155",
   "metadata": {
    "collapsed": false,
    "ExecuteTime": {
     "end_time": "2023-10-18T07:25:15.414359Z",
     "start_time": "2023-10-18T07:25:15.402018Z"
    }
   },
   "outputs": [],
   "source": [
    "def newton_jacobian(x, h):\n",
    "    # x_{k+1} = x_k + h * f(x_{k + 1})\n",
    "    # f(x) = x_0 + h * f_continues(x) - x\n",
    "    # f'(x) = h * f'_continuous(x) - I\n",
    "    return h * jac_pendulum_dynamic(x) - np.identity(len(x))"
   ]
  },
  {
   "cell_type": "code",
   "execution_count": 247,
   "id": "96b4c51e711bcb29",
   "metadata": {
    "collapsed": false,
    "ExecuteTime": {
     "end_time": "2023-10-18T07:25:15.414909Z",
     "start_time": "2023-10-18T07:25:15.412121Z"
    }
   },
   "outputs": [],
   "source": [
    "def backward_euler_step_newton(func, dfunc, x0, h):\n",
    "    xn = x0\n",
    "    fx = x0 + h * func(xn) - xn\n",
    "    e = [np.linalg.norm(fx)]\n",
    "    while e[-1] > 1.0e-8:\n",
    "        partial_fx = dfunc(xn, h)\n",
    "        dx = -np.dot(np.linalg.inv(partial_fx) ,fx)\n",
    "        xn = xn + dx\n",
    "        fx = x0 + h * func(xn) - xn\n",
    "        e.append(np.linalg.norm(fx))\n",
    "    return xn, e"
   ]
  },
  {
   "cell_type": "code",
   "execution_count": 248,
   "id": "2cd29adc5317762c",
   "metadata": {
    "collapsed": false,
    "ExecuteTime": {
     "end_time": "2023-10-18T07:25:15.418557Z",
     "start_time": "2023-10-18T07:25:15.412310Z"
    }
   },
   "outputs": [
    {
     "name": "stdout",
     "output_type": "stream",
     "text": [
      "[ 0.09107763 -0.08922368]\n",
      "[0.09793658173053843, 3.7830087232931797e-06, 5.2874553670659e-15]\n"
     ]
    }
   ],
   "source": [
    "xn, e = backward_euler_step_newton(pendulum_dynamics, newton_jacobian, [0.1, 0], 0.1)\n",
    "print(xn)\n",
    "print(e)"
   ]
  },
  {
   "cell_type": "code",
   "execution_count": 249,
   "id": "f8838c13243e2a8",
   "metadata": {
    "collapsed": false,
    "ExecuteTime": {
     "end_time": "2023-10-18T07:25:15.419779Z",
     "start_time": "2023-10-18T07:25:15.416842Z"
    }
   },
   "outputs": [
    {
     "data": {
      "text/plain": "(array([ 0.09107764, -0.08922369]),\n [0.9844579239897678,\n  0.009793658173053846,\n  0.009564124766684667,\n  0.0009564124766684723,\n  0.0009343853483241293,\n  9.343853483241571e-05,\n  9.128296581455142e-05,\n  9.128296581450979e-06,\n  8.917746787032166e-06,\n  8.917746786990532e-07,\n  8.712050176828967e-07,\n  8.712050177106523e-08,\n  8.511098474606182e-08,\n  8.511098478769519e-09])"
     },
     "execution_count": 249,
     "metadata": {},
     "output_type": "execute_result"
    }
   ],
   "source": [
    "x0 = [0.1, 0.0]\n",
    "backward_euler_fixed_point_step(pendulum_dynamics, x0, 0.1)"
   ]
  },
  {
   "cell_type": "code",
   "execution_count": 250,
   "id": "7c4795b8e08a97d1",
   "metadata": {
    "collapsed": false,
    "ExecuteTime": {
     "end_time": "2023-10-18T07:25:15.424721Z",
     "start_time": "2023-10-18T07:25:15.420758Z"
    }
   },
   "outputs": [],
   "source": [
    "def backward_euler_fixpoint_iterations(dynamic, x0, tf, h):\n",
    "    t_hist = np.arange(0.0, tf, h)\n",
    "    x_hist = np.zeros((len(t_hist), 2))\n",
    "    x_hist[0] = x0\n",
    "    for i in range(len(t_hist) - 1):\n",
    "        x, e = backward_euler_fixed_point_step(dynamic, x_hist[i], h)\n",
    "        x_hist[i + 1] = x\n",
    "    return x_hist, t_hist    "
   ]
  },
  {
   "cell_type": "code",
   "execution_count": 251,
   "outputs": [],
   "source": [
    "def backward_euler_newton_iteration(dynamic, x0, tf, h):\n",
    "    t_hist = np.arange(0.0, tf, h)\n",
    "    x_hist = np.zeros((len(t_hist), 2))\n",
    "    x_hist[0] = x0\n",
    "    for i in range(len(t_hist) - 1):\n",
    "        x, e = backward_euler_step_newton(dynamic, newton_jacobian, x_hist[i], h)\n",
    "        x_hist[i + 1] = x\n",
    "    return x_hist, t_hist"
   ],
   "metadata": {
    "collapsed": false,
    "ExecuteTime": {
     "end_time": "2023-10-18T07:25:15.430678Z",
     "start_time": "2023-10-18T07:25:15.425651Z"
    }
   },
   "id": "b002c79779412b63"
  },
  {
   "cell_type": "code",
   "execution_count": 252,
   "outputs": [
    {
     "data": {
      "text/plain": "<Figure size 432x288 with 1 Axes>",
      "image/png": "[encoded data removed]"
     },
     "metadata": {
      "needs_background": "light"
     },
     "output_type": "display_data"
    },
    {
     "data": {
      "text/plain": "<Figure size 432x288 with 1 Axes>",
      "image/png": "[encoded data removed]"
     },
     "metadata": {
      "needs_background": "light"
     },
     "output_type": "display_data"
    },
    {
     "data": {
      "text/plain": "<Figure size 432x288 with 0 Axes>"
     },
     "metadata": {},
     "output_type": "display_data"
    }
   ],
   "source": [
    "x0 = [0.1, 0.0]\n",
    "x_hist, t_hist = backward_euler_fixpoint_iterations(pendulum_dynamics, x0, 10.0, 0.01)\n",
    "x_hist1, t_hist1 = backward_euler_newton_iteration(pendulum_dynamics,x0, 10.0, 0.01)\n",
    "\n",
    "\n",
    "# 创建一个新的图形\n",
    "plt.figure(1)\n",
    "# 绘制第一组曲线\n",
    "plt.plot(t_hist, x_hist[:, 0], label='fixpoint_iteration', color='blue')\n",
    "plt.xlabel(r'$t$')\n",
    "plt.ylabel(r'$\\theta$')\n",
    "plt.title('fixpoint ')\n",
    "plt.legend()\n",
    "\n",
    "# 绘制第二组曲线\n",
    "plt.figure(2)\n",
    "plt.plot(t_hist1, x_hist1[:, 0], label='newton_iteration', color='red')\n",
    "# 添加标签和标题\n",
    "plt.xlabel(r'$t$')\n",
    "plt.ylabel(r'$\\theta$')\n",
    "plt.title('newton ')\n",
    "# 添加图例\n",
    "plt.legend()\n",
    "\n",
    "# 显示图像\n",
    "plt.figure(1)\n",
    "plt.show()\n",
    "plt.figure(2)\n",
    "plt.show()"
   ],
   "metadata": {
    "collapsed": false,
    "ExecuteTime": {
     "end_time": "2023-10-18T07:25:15.710122Z",
     "start_time": "2023-10-18T07:25:15.428688Z"
    }
   },
   "id": "f2a089dfa5a006cc"
  },
  {
   "cell_type": "code",
   "execution_count": 252,
   "outputs": [],
   "source": [],
   "metadata": {
    "collapsed": false,
    "ExecuteTime": {
     "end_time": "2023-10-18T07:25:15.713573Z",
     "start_time": "2023-10-18T07:25:15.710233Z"
    }
   },
   "id": "22fdd1ffbe9807d6"
  }
 ],
 "metadata": {
  "kernelspec": {
   "display_name": "Python 3",
   "language": "python",
   "name": "python3"
  },
  "language_info": {
   "codemirror_mode": {
    "name": "ipython",
    "version": 3
   },
   "file_extension": ".py",
   "mimetype": "text/x-python",
   "name": "python",
   "nbconvert_exporter": "python",
   "pygments_lexer": "ipython3",
   "version": "3.8.8"
  }
 },
 "nbformat": 4,
 "nbformat_minor": 5
}
