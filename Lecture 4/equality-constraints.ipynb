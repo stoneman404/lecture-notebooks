{
 "cells": [
  {
   "cell_type": "code",
   "execution_count": 1,
   "metadata": {
    "ExecuteTime": {
     "end_time": "2023-10-18T11:03:39.086924Z",
     "start_time": "2023-10-18T11:03:39.024492Z"
    }
   },
   "outputs": [
    {
     "ename": "SyntaxError",
     "evalue": "invalid syntax (<ipython-input-1-7ba01096cae5>, line 1)",
     "output_type": "error",
     "traceback": [
      "\u001B[0;36m  File \u001B[0;32m\"<ipython-input-1-7ba01096cae5>\"\u001B[0;36m, line \u001B[0;32m1\u001B[0m\n\u001B[0;31m    import Pkg; Pkg.activate(@__DIR__); Pkg.instantiate()\u001B[0m\n\u001B[0m                             ^\u001B[0m\n\u001B[0;31mSyntaxError\u001B[0m\u001B[0;31m:\u001B[0m invalid syntax\n"
     ]
    }
   ],
   "source": [
    "import Pkg; Pkg.activate(@__DIR__); Pkg.instantiate()"
   ]
  },
  {
   "cell_type": "code",
   "execution_count": null,
   "metadata": {
    "ExecuteTime": {
     "start_time": "2023-10-18T11:03:39.030483Z"
    }
   },
   "outputs": [],
   "source": [
    "using LinearAlgebra\n",
    "using ForwardDiff\n",
    "using PyPlot"
   ]
  },
  {
   "cell_type": "code",
   "execution_count": null,
   "metadata": {
    "ExecuteTime": {
     "start_time": "2023-10-18T11:03:39.033598Z"
    }
   },
   "outputs": [],
   "source": [
    "Q = Diagonal([0.5; 1])\n",
    "function f(x)\n",
    "    return 0.5*(x-[1; 0])'*Q*(x-[1; 0])\n",
    "end\n",
    "function ∇f(x)\n",
    "    return Q*(x-[1; 0])\n",
    "end\n",
    "function ∇2f(x)\n",
    "    return Q\n",
    "end"
   ]
  },
  {
   "cell_type": "code",
   "execution_count": null,
   "metadata": {
    "ExecuteTime": {
     "start_time": "2023-10-18T11:03:39.034811Z"
    }
   },
   "outputs": [],
   "source": [
    "function c(x)\n",
    "    return x[1]^2 + 2*x[1] - x[2]\n",
    "end\n",
    "function ∂c(x)\n",
    "    return [2*x[1]+2 -1]\n",
    "end"
   ]
  },
  {
   "cell_type": "code",
   "execution_count": null,
   "metadata": {
    "ExecuteTime": {
     "start_time": "2023-10-18T11:03:39.036989Z"
    }
   },
   "outputs": [],
   "source": [
    "function plot_landscape()\n",
    "    Nsamp = 20\n",
    "    Xsamp = kron(ones(Nsamp),LinRange(-4,4,Nsamp)')\n",
    "    Ysamp = kron(ones(Nsamp)',LinRange(-4,4,Nsamp))\n",
    "    Zsamp = zeros(Nsamp,Nsamp)\n",
    "    for j = 1:Nsamp\n",
    "        for k = 1:Nsamp\n",
    "            Zsamp[j,k] = f([Xsamp[j,k]; Ysamp[j,k]])\n",
    "        end\n",
    "    end\n",
    "    contour(Xsamp,Ysamp,Zsamp)\n",
    "\n",
    "    xc = LinRange(-3.2,1.2,Nsamp)\n",
    "    plot(xc,xc.^2+2.0.*xc,\"y\")\n",
    "end\n",
    "\n",
    "plot_landscape()"
   ]
  },
  {
   "cell_type": "code",
   "execution_count": null,
   "metadata": {
    "ExecuteTime": {
     "start_time": "2023-10-18T11:03:39.038384Z"
    }
   },
   "outputs": [],
   "source": [
    "function newton_step(x0,λ0)\n",
    "    H = ∇2f(x0) + ForwardDiff.jacobian(x -> ∂c(x)'*λ0, x0)\n",
    "    C = ∂c(x0)\n",
    "    Δz = [H C'; C 0]\\[-∇f(x0)-C'*λ0; -c(x0)]\n",
    "    Δx = Δz[1:2]\n",
    "    Δλ = Δz[3]\n",
    "    return x0+Δx, λ0+Δλ\n",
    "end"
   ]
  },
  {
   "cell_type": "code",
   "execution_count": null,
   "metadata": {
    "ExecuteTime": {
     "start_time": "2023-10-18T11:03:39.041265Z"
    }
   },
   "outputs": [],
   "source": [
    "xguess = [-3; 2]\n",
    "λguess = [0.0]\n",
    "plot_landscape()\n",
    "plot(xguess[1], xguess[2], \"rx\")"
   ]
  },
  {
   "cell_type": "code",
   "execution_count": null,
   "metadata": {
    "ExecuteTime": {
     "start_time": "2023-10-18T11:03:39.045480Z"
    }
   },
   "outputs": [],
   "source": [
    "xnew, λnew = newton_step(xguess[:,end],λguess[end])\n",
    "xguess = [xguess xnew]\n",
    "λguess = [λguess λnew]\n",
    "plot_landscape()\n",
    "plot(xguess[1,:], xguess[2,:], \"rx\")"
   ]
  },
  {
   "cell_type": "code",
   "execution_count": null,
   "metadata": {
    "ExecuteTime": {
     "start_time": "2023-10-18T11:03:39.049322Z"
    }
   },
   "outputs": [],
   "source": [
    "H = ∇2f(xguess[:,end]) + ForwardDiff.jacobian(x -> ∂c(x)'*λguess[end], xguess[:,end])"
   ]
  },
  {
   "cell_type": "code",
   "execution_count": null,
   "metadata": {
    "ExecuteTime": {
     "start_time": "2023-10-18T11:03:39.052942Z"
    }
   },
   "outputs": [],
   "source": []
  },
  {
   "cell_type": "code",
   "execution_count": null,
   "metadata": {
    "ExecuteTime": {
     "start_time": "2023-10-18T11:03:39.056372Z"
    }
   },
   "outputs": [],
   "source": [
    "function gauss_newton_step(x0,λ0)\n",
    "    H = ∇2f(x0)\n",
    "    C = ∂c(x0)\n",
    "    Δz = [H C'; C 0]\\[-∇f(x0)-C'*λ0; -c(x0)]\n",
    "    Δx = Δz[1:2]\n",
    "    Δλ = Δz[3]\n",
    "    return x0+Δx, λ0+Δλ\n",
    "end"
   ]
  },
  {
   "cell_type": "code",
   "execution_count": null,
   "metadata": {
    "ExecuteTime": {
     "start_time": "2023-10-18T11:03:39.057989Z"
    }
   },
   "outputs": [],
   "source": [
    "xguess = [-3; 2]\n",
    "λguess = [0.0]\n",
    "plot_landscape()\n",
    "plot(xguess[1], xguess[2], \"rx\")"
   ]
  },
  {
   "cell_type": "code",
   "execution_count": null,
   "metadata": {
    "ExecuteTime": {
     "start_time": "2023-10-18T11:03:39.060702Z"
    }
   },
   "outputs": [],
   "source": [
    "xnew, λnew = gauss_newton_step(xguess[:,end],λguess[end])\n",
    "xguess = [xguess xnew]\n",
    "λguess = [λguess λnew]\n",
    "plot_landscape()\n",
    "plot(xguess[1,:], xguess[2,:], \"rx\")"
   ]
  },
  {
   "cell_type": "code",
   "execution_count": null,
   "metadata": {
    "ExecuteTime": {
     "start_time": "2023-10-18T11:03:39.062459Z"
    }
   },
   "outputs": [],
   "source": []
  },
  {
   "cell_type": "code",
   "execution_count": null,
   "metadata": {
    "ExecuteTime": {
     "start_time": "2023-10-18T11:03:39.063762Z"
    }
   },
   "outputs": [],
   "source": []
  }
 ],
 "metadata": {
  "kernelspec": {
   "name": "python3",
   "language": "python",
   "display_name": "Python 3"
  },
  "language_info": {
   "file_extension": ".jl",
   "mimetype": "application/julia",
   "name": "julia",
   "version": "1.6.7"
  }
 },
 "nbformat": 4,
 "nbformat_minor": 4
}
